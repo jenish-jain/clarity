{
 "cells": [
  {
   "cell_type": "code",
   "execution_count": null,
   "metadata": {},
   "outputs": [],
   "source": [
    "import pandas as pd\n",
    "\n",
    "df = pd.read_json(\"/Users/jenishjain/Desktop/workspace/tryouts/output.json\")"
   ]
  },
  {
   "cell_type": "code",
   "execution_count": null,
   "metadata": {},
   "outputs": [],
   "source": [
    "df['date'] = pd.to_datetime(df['time'], format='%d-%m-%Y')\n",
    "\n",
    "# Extract month and year and create new columns\n",
    "month_order = ['January', 'February', 'March', 'April', 'May', 'June', 'July', 'August', 'September', 'October', 'November', 'December']\n",
    "\n",
    "# df['month'] = df['date'].dt.month\n",
    "df['month'] = df['date'].dt.strftime('%B')\n",
    "df['month'] = pd.Categorical(df['month'], categories=month_order, ordered=True)\n",
    "df['year'] = df['date'].dt.year\n",
    "\n",
    "def assign_tag(title):\n",
    "    if title is None:\n",
    "        return 'unknown'\n",
    "    tags = {\n",
    "        'food': ['restaurant', 'cafe', 'dominos', 'swiggy', 'food', 'zomato' , 'staples enterprise', 'master harsh mitruka', 'icecream'],\n",
    "        'travel': ['flight', 'hotel', 'uber', 'ola', 'rapido', 'travel', 'irctc', 'makemytrip', 'goibibo', 'ontrot', 'bus'],\n",
    "        'clothes': ['myntra', 'zara', 'levis', 'gap', 'espanshe'],\n",
    "        'investment': ['mutual fund', 'stock', 'investment', 'sip', 'groww', 'zerodha'],\n",
    "        'grocery': ['bigbasket', 'grofers', 'grocery', 'zepto', 'hyper mart', 'bakery', 'supermarket', 'dairy'],\n",
    "        'entertainment': ['bookmyshow', 'netflix', 'prime', 'hotstar', 'spotify', 'gaana', 'music', 'entertainment'],\n",
    "        'shopping': ['amazon', 'flipkart', 'snapdeal', 'shopping', 'shop', 'store'],\n",
    "        'selfcare': ['salon', 'spa', 'selfcare', 'gym', 'fitness', 'health', 'medical'],\n",
    "        'bills' : ['electricity', 'water', 'bills', 'bill', 'dth', 'internet', 'phone', 'recharge', 'gas'],\n",
    "    }\n",
    "\n",
    "    for tag, keywords in tags.items():\n",
    "        if any(keyword in title.lower() for keyword in keywords):\n",
    "            return tag\n",
    "\n",
    "    return 'miscellaneous'\n",
    "df['category'] = df['title'].apply(assign_tag)"
   ]
  },
  {
   "cell_type": "code",
   "execution_count": null,
   "metadata": {},
   "outputs": [],
   "source": [
    "df.head()"
   ]
  },
  {
   "cell_type": "code",
   "execution_count": null,
   "metadata": {},
   "outputs": [],
   "source": [
    "completed_transactions = df[df['status'] == 'Completed']\n",
    "completed_transactions['amount'] = completed_transactions['amount'].fillna(0)\n",
    "completed_transactions.head()\n",
    "\n",
    "completed_transactions = completed_transactions.sort_values(['year', 'month'], ascending=False)"
   ]
  },
  {
   "cell_type": "code",
   "execution_count": null,
   "metadata": {},
   "outputs": [],
   "source": [
    "total_lifetime_spend = completed_transactions['amount'].sum()\n",
    "\n",
    "total_lifetime_spend"
   ]
  },
  {
   "cell_type": "code",
   "execution_count": null,
   "metadata": {},
   "outputs": [],
   "source": [
    "total_expense_group_by_month_and_year = completed_transactions.groupby(['year', 'month'])['amount'].sum().reset_index()\n",
    "\n",
    "total_expense_group_by_month_and_year = total_expense_group_by_month_and_year.sort_values(['year', 'month'], ascending=False)\n",
    "\n",
    "total_expense_group_by_month_and_year.plot(kind='bar', x='month', y='amount', figsize=(15, 6))"
   ]
  },
  {
   "cell_type": "code",
   "execution_count": null,
   "metadata": {},
   "outputs": [],
   "source": [
    "filter_data_for_year = completed_transactions[completed_transactions['year'] == 2024]"
   ]
  },
  {
   "cell_type": "code",
   "execution_count": null,
   "metadata": {},
   "outputs": [],
   "source": [
    "grouped_expenses = filter_data_for_year.groupby(['year', 'month', 'category'])['amount'].sum()\n",
    "\n",
    "grouped_expenses = grouped_expenses.reset_index()\n",
    "\n",
    "# grouped_expenses = grouped_expenses.sort_values(['year', 'month'], ascending=False)\n",
    "\n",
    "grouped_expenses\n",
    "\n",
    "# grouped_expenses.plot(kind='bar', x='category', y='amount', figsize=(15, 6))"
   ]
  },
  {
   "cell_type": "code",
   "execution_count": null,
   "metadata": {},
   "outputs": [],
   "source": [
    "\n",
    "# Pivot the DataFrame\n",
    "pivot_df = grouped_expenses.pivot_table(index=['year', 'month'], columns='category', values='amount', fill_value=0)\n",
    "\n",
    "# Plot the stacked bar chart\n",
    "pivot_df.plot(kind='bar', stacked=True, figsize=(15, 6))"
   ]
  },
  {
   "cell_type": "code",
   "execution_count": null,
   "metadata": {},
   "outputs": [],
   "source": [
    "data_without_unknown_and_miscellaneous = grouped_expenses[(grouped_expenses['category'] != 'unknown') & (grouped_expenses['category'] != 'miscellaneous')]\n",
    "pivot_df = data_without_unknown_and_miscellaneous.pivot_table(index=['year', 'month'], columns='category', values='amount', fill_value=0)\n",
    "pivot_df.plot(kind='bar', stacked=True, figsize=(15, 6))\n"
   ]
  }
 ],
 "metadata": {
  "kernelspec": {
   "display_name": "Python 3",
   "language": "python",
   "name": "python3"
  },
  "language_info": {
   "codemirror_mode": {
    "name": "ipython",
    "version": 3
   },
   "file_extension": ".py",
   "mimetype": "text/x-python",
   "name": "python",
   "nbconvert_exporter": "python",
   "pygments_lexer": "ipython3",
   "version": "3.11.7"
  }
 },
 "nbformat": 4,
 "nbformat_minor": 2
}
